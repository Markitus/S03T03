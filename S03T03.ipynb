{
 "cells": [
  {
   "cell_type": "markdown",
   "id": "5fe6a0aa",
   "metadata": {},
   "source": [
    "# Exercici 1"
   ]
  },
  {
   "cell_type": "code",
   "execution_count": 1,
   "id": "d0e2596d",
   "metadata": {},
   "outputs": [
    {
     "name": "stdout",
     "output_type": "stream",
     "text": [
      "\n"
     ]
    }
   ],
   "source": [
    "x=\"\"\n",
    "nota=11\n",
    "if nota<5:\n",
    "    x=\"Suspès\"\n",
    "if nota>=5 and nota<7:\n",
    "    x=\"Aprovat\"\n",
    "if nota>=7 and nota<9:\n",
    "    x=\"Notable\"\n",
    "if nota>=9 and nota<=10:\n",
    "    x=\"Excel·lent\"\n",
    "print(x)"
   ]
  },
  {
   "cell_type": "markdown",
   "id": "4b040485",
   "metadata": {},
   "source": [
    "# Exercici 2"
   ]
  },
  {
   "cell_type": "code",
   "execution_count": 3,
   "id": "a570a6d7",
   "metadata": {},
   "outputs": [
    {
     "name": "stdout",
     "output_type": "stream",
     "text": [
      "nombre1?2\n",
      "nombre2?4\n",
      "el 2n és més gran\n"
     ]
    }
   ],
   "source": [
    "num1=input('nombre1?')\n",
    "num2=input('nombre2?')\n",
    "if num1==num2:\n",
    "    print(\"els dos són iguals\")\n",
    "else:\n",
    "    if num1>num2:\n",
    "        print(\"el 1r és més gran\")\n",
    "    else:\n",
    "        print(\"el 2n és més gran\")\n"
   ]
  },
  {
   "cell_type": "markdown",
   "id": "d1d09f1c",
   "metadata": {},
   "source": [
    "# Exercici 3"
   ]
  },
  {
   "cell_type": "code",
   "execution_count": 2,
   "id": "aa8a2920",
   "metadata": {
    "scrolled": true
   },
   "outputs": [
    {
     "name": "stdout",
     "output_type": "stream",
     "text": [
      "nom?e\n",
      "nombre?3\n",
      "e e e "
     ]
    }
   ],
   "source": [
    "nom=input('nom?')\n",
    "num=input('nombre?')\n",
    "if num==0:\n",
    "    print(\"error\")\n",
    "else:\n",
    "    for i in range(int(num)):\n",
    "        print(nom, end=\" \")"
   ]
  },
  {
   "cell_type": "markdown",
   "id": "38bc70bd",
   "metadata": {},
   "source": [
    "# Exercici 4"
   ]
  },
  {
   "cell_type": "code",
   "execution_count": 47,
   "id": "284f7f47",
   "metadata": {},
   "outputs": [
    {
     "name": "stdout",
     "output_type": "stream",
     "text": [
      "simetrica\n",
      "6\n"
     ]
    }
   ],
   "source": [
    "llista=[1,2,4,4,2,1]\n",
    "s=0\n",
    "for i in range(len(llista)):\n",
    "    if llista[i]==llista[len(llista)-i-1]:\n",
    "        s=1\n",
    "    else:\n",
    "        print(\"no simetrica\")\n",
    "        s=0\n",
    "        break\n",
    "if s==1:\n",
    "    print(\"simetrica\")\n",
    "    print(len(llista))"
   ]
  },
  {
   "cell_type": "markdown",
   "id": "fca6ab11",
   "metadata": {},
   "source": [
    "# Exercici 5"
   ]
  },
  {
   "cell_type": "code",
   "execution_count": 54,
   "id": "1d0a9354",
   "metadata": {},
   "outputs": [
    {
     "name": "stdout",
     "output_type": "stream",
     "text": [
      "3\n"
     ]
    }
   ],
   "source": [
    "s=0\n",
    "for i in range(len(llista)):\n",
    "    if llista[i-1]==i:\n",
    "        s=s+1\n",
    "print(s)"
   ]
  },
  {
   "cell_type": "code",
   "execution_count": null,
   "id": "b88abf74",
   "metadata": {},
   "outputs": [],
   "source": []
  }
 ],
 "metadata": {
  "kernelspec": {
   "display_name": "Python 3",
   "language": "python",
   "name": "python3"
  },
  "language_info": {
   "codemirror_mode": {
    "name": "ipython",
    "version": 3
   },
   "file_extension": ".py",
   "mimetype": "text/x-python",
   "name": "python",
   "nbconvert_exporter": "python",
   "pygments_lexer": "ipython3",
   "version": "3.8.8"
  }
 },
 "nbformat": 4,
 "nbformat_minor": 5
}
